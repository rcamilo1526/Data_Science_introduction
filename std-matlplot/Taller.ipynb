{
 "cells": [
  {
   "cell_type": "markdown",
   "metadata": {},
   "source": [
    "Datos  [Vehicles Colombia (Fasecolda)](https://www.kaggle.com/panchicore/vehicles-colombia-fasecolda)"
   ]
  },
  {
   "cell_type": "code",
   "execution_count": 28,
   "metadata": {},
   "outputs": [],
   "source": [
    "import pandas as pd\n",
    "import matplotlib.pyplot as plt\n",
    "import numpy as np\n",
    "import statistics as st"
   ]
  },
  {
   "cell_type": "code",
   "execution_count": 102,
   "metadata": {
    "scrolled": true
   },
   "outputs": [
    {
     "data": {
      "text/html": [
       "<div>\n",
       "<style scoped>\n",
       "    .dataframe tbody tr th:only-of-type {\n",
       "        vertical-align: middle;\n",
       "    }\n",
       "\n",
       "    .dataframe tbody tr th {\n",
       "        vertical-align: top;\n",
       "    }\n",
       "\n",
       "    .dataframe thead th {\n",
       "        text-align: right;\n",
       "    }\n",
       "</style>\n",
       "<table border=\"1\" class=\"dataframe\">\n",
       "  <thead>\n",
       "    <tr style=\"text-align: right;\">\n",
       "      <th></th>\n",
       "      <th>Novedad</th>\n",
       "      <th>Marca</th>\n",
       "      <th>Clase</th>\n",
       "      <th>Codigo</th>\n",
       "      <th>Referencia1</th>\n",
       "      <th>Referencia2</th>\n",
       "      <th>Referencia3</th>\n",
       "      <th>Peso</th>\n",
       "      <th>IdServicio</th>\n",
       "      <th>Servicio</th>\n",
       "      <th>...</th>\n",
       "      <th>Potencia</th>\n",
       "      <th>Cilindraje</th>\n",
       "      <th>CapacidadPasajeros</th>\n",
       "      <th>CapacidadCarga</th>\n",
       "      <th>Puertas</th>\n",
       "      <th>AireAcondicionado</th>\n",
       "      <th>Ejes</th>\n",
       "      <th>Estado</th>\n",
       "      <th>Um</th>\n",
       "      <th>PesoCategoria</th>\n",
       "    </tr>\n",
       "  </thead>\n",
       "  <tbody>\n",
       "    <tr>\n",
       "      <th>0</th>\n",
       "      <td>M</td>\n",
       "      <td>ALEKO</td>\n",
       "      <td>AUTOMOVIL</td>\n",
       "      <td>101001</td>\n",
       "      <td>2141</td>\n",
       "      <td>1.6</td>\n",
       "      <td>MT 1600CC TAXI</td>\n",
       "      <td>1380</td>\n",
       "      <td>2</td>\n",
       "      <td>Publico</td>\n",
       "      <td>...</td>\n",
       "      <td>82</td>\n",
       "      <td>1570</td>\n",
       "      <td>5</td>\n",
       "      <td>0</td>\n",
       "      <td>5</td>\n",
       "      <td>0</td>\n",
       "      <td>2</td>\n",
       "      <td>Activo</td>\n",
       "      <td>0</td>\n",
       "      <td>1</td>\n",
       "    </tr>\n",
       "    <tr>\n",
       "      <th>1</th>\n",
       "      <td>M</td>\n",
       "      <td>AMERICAN MOTOR</td>\n",
       "      <td>CAMIONETA PASAJ.</td>\n",
       "      <td>206001</td>\n",
       "      <td>EAGLE</td>\n",
       "      <td>SUMMIT</td>\n",
       "      <td>AT 2400CC LX 4P</td>\n",
       "      <td>0</td>\n",
       "      <td>1</td>\n",
       "      <td>Particular</td>\n",
       "      <td>...</td>\n",
       "      <td>0</td>\n",
       "      <td>2351</td>\n",
       "      <td>5</td>\n",
       "      <td>0</td>\n",
       "      <td>5</td>\n",
       "      <td>0</td>\n",
       "      <td>2</td>\n",
       "      <td>Activo</td>\n",
       "      <td>0</td>\n",
       "      <td>1</td>\n",
       "    </tr>\n",
       "    <tr>\n",
       "      <th>2</th>\n",
       "      <td>M</td>\n",
       "      <td>AMERICAN MOTOR</td>\n",
       "      <td>CAMPERO</td>\n",
       "      <td>208003</td>\n",
       "      <td>WRANGLER</td>\n",
       "      <td>4.2</td>\n",
       "      <td>MT 4200CC CAB</td>\n",
       "      <td>1100</td>\n",
       "      <td>1</td>\n",
       "      <td>Particular</td>\n",
       "      <td>...</td>\n",
       "      <td>120</td>\n",
       "      <td>2400</td>\n",
       "      <td>5</td>\n",
       "      <td>0</td>\n",
       "      <td>3</td>\n",
       "      <td>1</td>\n",
       "      <td>2</td>\n",
       "      <td>Activo</td>\n",
       "      <td>0</td>\n",
       "      <td>1</td>\n",
       "    </tr>\n",
       "    <tr>\n",
       "      <th>3</th>\n",
       "      <td>M</td>\n",
       "      <td>AMERICAN MOTOR</td>\n",
       "      <td>CAMPERO</td>\n",
       "      <td>208004</td>\n",
       "      <td>WRANGLER</td>\n",
       "      <td>4.2</td>\n",
       "      <td>MT 2500CC CARPADO</td>\n",
       "      <td>1100</td>\n",
       "      <td>1</td>\n",
       "      <td>Particular</td>\n",
       "      <td>...</td>\n",
       "      <td>120</td>\n",
       "      <td>2400</td>\n",
       "      <td>5</td>\n",
       "      <td>0</td>\n",
       "      <td>3</td>\n",
       "      <td>1</td>\n",
       "      <td>2</td>\n",
       "      <td>Activo</td>\n",
       "      <td>0</td>\n",
       "      <td>1</td>\n",
       "    </tr>\n",
       "    <tr>\n",
       "      <th>4</th>\n",
       "      <td>M</td>\n",
       "      <td>AUTECO</td>\n",
       "      <td>MOTOCICLETA</td>\n",
       "      <td>317003</td>\n",
       "      <td>SUMA</td>\n",
       "      <td>80</td>\n",
       "      <td>MT 80CC 2T</td>\n",
       "      <td>75</td>\n",
       "      <td>1</td>\n",
       "      <td>Particular</td>\n",
       "      <td>...</td>\n",
       "      <td>6</td>\n",
       "      <td>80</td>\n",
       "      <td>2</td>\n",
       "      <td>0</td>\n",
       "      <td>0</td>\n",
       "      <td>0</td>\n",
       "      <td>2</td>\n",
       "      <td>Activo</td>\n",
       "      <td>0</td>\n",
       "      <td>1</td>\n",
       "    </tr>\n",
       "  </tbody>\n",
       "</table>\n",
       "<p>5 rows × 71 columns</p>\n",
       "</div>"
      ],
      "text/plain": [
       "  Novedad           Marca             Clase  Codigo Referencia1 Referencia2  \\\n",
       "0       M           ALEKO         AUTOMOVIL  101001        2141         1.6   \n",
       "1       M  AMERICAN MOTOR  CAMIONETA PASAJ.  206001       EAGLE      SUMMIT   \n",
       "2       M  AMERICAN MOTOR           CAMPERO  208003    WRANGLER         4.2   \n",
       "3       M  AMERICAN MOTOR           CAMPERO  208004    WRANGLER         4.2   \n",
       "4       M          AUTECO       MOTOCICLETA  317003        SUMA          80   \n",
       "\n",
       "         Referencia3  Peso  IdServicio    Servicio  ...  Potencia  Cilindraje  \\\n",
       "0     MT 1600CC TAXI  1380           2     Publico  ...        82        1570   \n",
       "1    AT 2400CC LX 4P     0           1  Particular  ...         0        2351   \n",
       "2      MT 4200CC CAB  1100           1  Particular  ...       120        2400   \n",
       "3  MT 2500CC CARPADO  1100           1  Particular  ...       120        2400   \n",
       "4         MT 80CC 2T    75           1  Particular  ...         6          80   \n",
       "\n",
       "   CapacidadPasajeros  CapacidadCarga  Puertas  AireAcondicionado  Ejes  \\\n",
       "0                   5               0        5                  0     2   \n",
       "1                   5               0        5                  0     2   \n",
       "2                   5               0        3                  1     2   \n",
       "3                   5               0        3                  1     2   \n",
       "4                   2               0        0                  0     2   \n",
       "\n",
       "   Estado  Um  PesoCategoria  \n",
       "0  Activo   0              1  \n",
       "1  Activo   0              1  \n",
       "2  Activo   0              1  \n",
       "3  Activo   0              1  \n",
       "4  Activo   0              1  \n",
       "\n",
       "[5 rows x 71 columns]"
      ]
     },
     "execution_count": 102,
     "metadata": {},
     "output_type": "execute_result"
    }
   ],
   "source": [
    "df=pd.read_csv(\"vehicles-colombia-fasecolda.csv\")\n",
    "df.dropna(axis='columns',inplace=True)\n",
    "df.head()"
   ]
  },
  {
   "cell_type": "code",
   "execution_count": 106,
   "metadata": {},
   "outputs": [],
   "source": [
    "a=list(np.arange(1970,2002))\n",
    "a;"
   ]
  },
  {
   "cell_type": "code",
   "execution_count": 107,
   "metadata": {},
   "outputs": [],
   "source": [
    "erase=[]\n",
    "for i in a:\n",
    "    erase.append(str(i))"
   ]
  },
  {
   "cell_type": "code",
   "execution_count": 108,
   "metadata": {},
   "outputs": [
    {
     "data": {
      "text/plain": [
       "['Novedad',\n",
       " 'Marca',\n",
       " 'Clase',\n",
       " 'Codigo',\n",
       " 'Referencia1',\n",
       " 'Referencia2',\n",
       " 'Referencia3',\n",
       " 'Peso',\n",
       " 'IdServicio',\n",
       " 'Servicio',\n",
       " '2002',\n",
       " '2003',\n",
       " '2004',\n",
       " '2005',\n",
       " '2006',\n",
       " '2007',\n",
       " '2008',\n",
       " '2009',\n",
       " '2010',\n",
       " '2011',\n",
       " '2012',\n",
       " '2013',\n",
       " '2014',\n",
       " '2015',\n",
       " '2016',\n",
       " '2017',\n",
       " '2018',\n",
       " 'Bcpp',\n",
       " 'Importado',\n",
       " 'Potencia',\n",
       " 'Cilindraje',\n",
       " 'CapacidadPasajeros',\n",
       " 'CapacidadCarga',\n",
       " 'Puertas',\n",
       " 'AireAcondicionado',\n",
       " 'Ejes',\n",
       " 'Estado',\n",
       " 'Um',\n",
       " 'PesoCategoria']"
      ]
     },
     "execution_count": 108,
     "metadata": {},
     "output_type": "execute_result"
    }
   ],
   "source": [
    "df.drop(list(erase), axis=1,inplace=True)\n",
    "list(df)  "
   ]
  },
  {
   "cell_type": "code",
   "execution_count": 33,
   "metadata": {},
   "outputs": [
    {
     "data": {
      "image/png": "[encoded data removed]",
      "text/plain": [
       "<Figure size 432x288 with 1 Axes>"
      ]
     },
     "metadata": {
      "needs_background": "light"
     },
     "output_type": "display_data"
    }
   ],
   "source": [
    "plt.hist(df['Clase'])\n",
    "plt.title(\"histogram\")\n",
    "plt.xticks(rotation='vertical')\n",
    "plt.show()"
   ]
  },
  {
   "cell_type": "code",
   "execution_count": 34,
   "metadata": {},
   "outputs": [
    {
     "data": {
      "text/html": [
       "<div>\n",
       "<style scoped>\n",
       "    .dataframe tbody tr th:only-of-type {\n",
       "        vertical-align: middle;\n",
       "    }\n",
       "\n",
       "    .dataframe tbody tr th {\n",
       "        vertical-align: top;\n",
       "    }\n",
       "\n",
       "    .dataframe thead th {\n",
       "        text-align: right;\n",
       "    }\n",
       "</style>\n",
       "<table border=\"1\" class=\"dataframe\">\n",
       "  <thead>\n",
       "    <tr style=\"text-align: right;\">\n",
       "      <th></th>\n",
       "      <th>2018</th>\n",
       "      <th>Potencia</th>\n",
       "    </tr>\n",
       "    <tr>\n",
       "      <th>Clase</th>\n",
       "      <th></th>\n",
       "      <th></th>\n",
       "    </tr>\n",
       "  </thead>\n",
       "  <tbody>\n",
       "    <tr>\n",
       "      <th>AUTOMOVIL</th>\n",
       "      <td>76829.672544</td>\n",
       "      <td>144.122670</td>\n",
       "    </tr>\n",
       "    <tr>\n",
       "      <th>BUS / BUSETA / MICROBUS</th>\n",
       "      <td>157847.117296</td>\n",
       "      <td>153.421471</td>\n",
       "    </tr>\n",
       "    <tr>\n",
       "      <th>CAMION</th>\n",
       "      <td>97908.836207</td>\n",
       "      <td>140.551724</td>\n",
       "    </tr>\n",
       "    <tr>\n",
       "      <th>CAMIONETA PASAJ.</th>\n",
       "      <td>84816.444073</td>\n",
       "      <td>158.271285</td>\n",
       "    </tr>\n",
       "    <tr>\n",
       "      <th>CAMIONETA REPAR</th>\n",
       "      <td>60395.705521</td>\n",
       "      <td>94.165644</td>\n",
       "    </tr>\n",
       "    <tr>\n",
       "      <th>CAMPERO</th>\n",
       "      <td>119410.067682</td>\n",
       "      <td>194.810491</td>\n",
       "    </tr>\n",
       "    <tr>\n",
       "      <th>CARROTANQUE</th>\n",
       "      <td>147313.944223</td>\n",
       "      <td>164.553785</td>\n",
       "    </tr>\n",
       "    <tr>\n",
       "      <th>CHASIS</th>\n",
       "      <td>116712.872841</td>\n",
       "      <td>170.811617</td>\n",
       "    </tr>\n",
       "    <tr>\n",
       "      <th>FURGON</th>\n",
       "      <td>88363.281250</td>\n",
       "      <td>131.425781</td>\n",
       "    </tr>\n",
       "    <tr>\n",
       "      <th>FURGONETA</th>\n",
       "      <td>13700.000000</td>\n",
       "      <td>28.333333</td>\n",
       "    </tr>\n",
       "    <tr>\n",
       "      <th>ISOCARRO</th>\n",
       "      <td>15100.000000</td>\n",
       "      <td>0.000000</td>\n",
       "    </tr>\n",
       "    <tr>\n",
       "      <th>MOTOCARRO</th>\n",
       "      <td>24389.473684</td>\n",
       "      <td>20.589474</td>\n",
       "    </tr>\n",
       "    <tr>\n",
       "      <th>MOTOCICLETA</th>\n",
       "      <td>20449.027498</td>\n",
       "      <td>36.032193</td>\n",
       "    </tr>\n",
       "    <tr>\n",
       "      <th>PICKUP DOBLE CAB</th>\n",
       "      <td>78986.466165</td>\n",
       "      <td>156.789474</td>\n",
       "    </tr>\n",
       "    <tr>\n",
       "      <th>PICKUP SENCILLA</th>\n",
       "      <td>50942.105263</td>\n",
       "      <td>133.049861</td>\n",
       "    </tr>\n",
       "    <tr>\n",
       "      <th>REMOLCADOR</th>\n",
       "      <td>216266.055046</td>\n",
       "      <td>231.105505</td>\n",
       "    </tr>\n",
       "    <tr>\n",
       "      <th>REMOLQUE</th>\n",
       "      <td>74611.139896</td>\n",
       "      <td>0.000000</td>\n",
       "    </tr>\n",
       "    <tr>\n",
       "      <th>UNIMOG</th>\n",
       "      <td>64900.000000</td>\n",
       "      <td>190.000000</td>\n",
       "    </tr>\n",
       "    <tr>\n",
       "      <th>VOLQUETA</th>\n",
       "      <td>189321.632653</td>\n",
       "      <td>223.710204</td>\n",
       "    </tr>\n",
       "  </tbody>\n",
       "</table>\n",
       "</div>"
      ],
      "text/plain": [
       "                                  2018    Potencia\n",
       "Clase                                             \n",
       "AUTOMOVIL                 76829.672544  144.122670\n",
       "BUS / BUSETA / MICROBUS  157847.117296  153.421471\n",
       "CAMION                    97908.836207  140.551724\n",
       "CAMIONETA PASAJ.          84816.444073  158.271285\n",
       "CAMIONETA REPAR           60395.705521   94.165644\n",
       "CAMPERO                  119410.067682  194.810491\n",
       "CARROTANQUE              147313.944223  164.553785\n",
       "CHASIS                   116712.872841  170.811617\n",
       "FURGON                    88363.281250  131.425781\n",
       "FURGONETA                 13700.000000   28.333333\n",
       "ISOCARRO                  15100.000000    0.000000\n",
       "MOTOCARRO                 24389.473684   20.589474\n",
       "MOTOCICLETA               20449.027498   36.032193\n",
       "PICKUP DOBLE CAB          78986.466165  156.789474\n",
       "PICKUP SENCILLA           50942.105263  133.049861\n",
       "REMOLCADOR               216266.055046  231.105505\n",
       "REMOLQUE                  74611.139896    0.000000\n",
       "UNIMOG                    64900.000000  190.000000\n",
       "VOLQUETA                 189321.632653  223.710204"
      ]
     },
     "execution_count": 34,
     "metadata": {},
     "output_type": "execute_result"
    }
   ],
   "source": [
    "df.groupby('Clase').mean()[['2018','Potencia']]"
   ]
  },
  {
   "cell_type": "code",
   "execution_count": 35,
   "metadata": {
    "scrolled": true
   },
   "outputs": [
    {
     "data": {
      "text/plain": [
       "Codigo                5602133.5\n",
       "Peso                     1200.0\n",
       "IdServicio                  1.0\n",
       "2015                        0.0\n",
       "2016                        0.0\n",
       "2017                        0.0\n",
       "2018                    48200.0\n",
       "Bcpp                    60000.0\n",
       "Importado                   1.0\n",
       "Potencia                  117.5\n",
       "Cilindraje               1781.0\n",
       "CapacidadPasajeros          5.0\n",
       "CapacidadCarga              0.0\n",
       "Puertas                     4.0\n",
       "AireAcondicionado           1.0\n",
       "Ejes                        2.0\n",
       "Um                          0.0\n",
       "PesoCategoria               1.0\n",
       "dtype: float64"
      ]
     },
     "execution_count": 35,
     "metadata": {},
     "output_type": "execute_result"
    }
   ],
   "source": [
    "df[df['Clase']=='AUTOMOVIL'].median()"
   ]
  },
  {
   "cell_type": "code",
   "execution_count": 36,
   "metadata": {},
   "outputs": [
    {
     "data": {
      "text/plain": [
       "2"
      ]
     },
     "execution_count": 36,
     "metadata": {},
     "output_type": "execute_result"
    }
   ],
   "source": [
    "st.mode(df['Puertas'])"
   ]
  },
  {
   "cell_type": "code",
   "execution_count": 37,
   "metadata": {},
   "outputs": [
    {
     "data": {
      "text/plain": [
       "1748600"
      ]
     },
     "execution_count": 37,
     "metadata": {},
     "output_type": "execute_result"
    }
   ],
   "source": [
    "def data_range(x):\n",
    "    return max(x) - min(x)\n",
    "data_range(df['2018'])"
   ]
  },
  {
   "cell_type": "code",
   "execution_count": 38,
   "metadata": {},
   "outputs": [
    {
     "data": {
      "text/plain": [
       "(9247.989365004145, 9247.24553894728)"
      ]
     },
     "execution_count": 38,
     "metadata": {},
     "output_type": "execute_result"
    }
   ],
   "source": [
    "st.variance(df['Potencia']), st.pvariance(df['Potencia'])"
   ]
  },
  {
   "cell_type": "code",
   "execution_count": 39,
   "metadata": {},
   "outputs": [
    {
     "data": {
      "text/plain": [
       "(7341012155.183961, 7340421709.422263)"
      ]
     },
     "execution_count": 39,
     "metadata": {},
     "output_type": "execute_result"
    }
   ],
   "source": [
    "st.variance(df['2018']), st.pvariance(df['2018'])"
   ]
  },
  {
   "cell_type": "code",
   "execution_count": 40,
   "metadata": {},
   "outputs": [
    {
     "data": {
      "text/plain": [
       "array([[9.24798937e+03, 5.79818724e+06],\n",
       "       [5.79818724e+06, 7.34101216e+09]])"
      ]
     },
     "execution_count": 40,
     "metadata": {},
     "output_type": "execute_result"
    }
   ],
   "source": [
    "np.cov(df['Potencia'],df['2018'])"
   ]
  },
  {
   "cell_type": "code",
   "execution_count": 41,
   "metadata": {
    "scrolled": true
   },
   "outputs": [
    {
     "data": {
      "text/plain": [
       "array([[1.        , 0.70370495],\n",
       "       [0.70370495, 1.        ]])"
      ]
     },
     "execution_count": 41,
     "metadata": {},
     "output_type": "execute_result"
    }
   ],
   "source": [
    "np.corrcoef(df['Potencia'],df['2018'])"
   ]
  },
  {
   "cell_type": "code",
   "execution_count": 92,
   "metadata": {},
   "outputs": [
    {
     "data": {
      "text/plain": [
       "(2002     700\n",
       " 2003     750\n",
       " 2004     800\n",
       " 2005     900\n",
       " 2006    1000\n",
       " 2007    1100\n",
       " 2008    1200\n",
       " 2009    1300\n",
       " 2010    1400\n",
       " 2011    1500\n",
       " 2012    1700\n",
       " 2013    1900\n",
       " 2014    2400\n",
       " 2015    2600\n",
       " 2016    2800\n",
       " 2017    3100\n",
       " 2018    3500\n",
       " Name: 11, dtype: object, Novedad                  M\n",
       " Marca               AUTECO\n",
       " Clase          MOTOCICLETA\n",
       " Codigo              317015\n",
       " Referencia1          BAJAJ\n",
       " Referencia2    BOXER CT100\n",
       " Referencia3       MT 100CC\n",
       " Name: 11, dtype: object)"
      ]
     },
     "execution_count": 92,
     "metadata": {},
     "output_type": "execute_result"
    }
   ],
   "source": [
    "df[df['2010']>0].iloc[0,-29:-12],df[df['2010']>0].iloc[0,0:7]"
   ]
  },
  {
   "cell_type": "code",
   "execution_count": 93,
   "metadata": {},
   "outputs": [],
   "source": [
    "autecoBoxer=df[df['2010']>0].iloc[0,-29:-12]"
   ]
  },
  {
   "cell_type": "code",
   "execution_count": 111,
   "metadata": {
    "scrolled": false
   },
   "outputs": [
    {
     "data": {
      "text/plain": [
       "Text(0.5, 1.0, 'MOTOCICLETA BAJAJ BOXER CT100 MT 100CC')"
      ]
     },
     "execution_count": 111,
     "metadata": {},
     "output_type": "execute_result"
    },
    {
     "data": {
      "image/png": "[encoded data removed]",
      "text/plain": [
       "<Figure size 432x288 with 1 Axes>"
      ]
     },
     "metadata": {
      "needs_background": "light"
     },
     "output_type": "display_data"
    }
   ],
   "source": [
    "plt.plot(autecoBoxer);\n",
    "plt.xticks(rotation='vertical');\n",
    "plt.xlabel('Años')\n",
    "plt.ylabel('Valor en miles de pesos')\n",
    "\n",
    "plt.title(\"MOTOCICLETA BAJAJ BOXER CT100 MT 100CC\")"
   ]
  },
  {
   "cell_type": "code",
   "execution_count": 122,
   "metadata": {},
   "outputs": [
    {
     "data": {
      "image/png": "[encoded data removed]",
      "text/plain": [
       "<Figure size 432x288 with 1 Axes>"
      ]
     },
     "metadata": {},
     "output_type": "display_data"
    }
   ],
   "source": [
    "# Pie chart, where the slices will be ordered and plotted counter-clockwise:\n",
    "labels = 'Particular', 'Público'\n",
    "plt.pie(df['Servicio'].value_counts(),labels=labels,autopct='%1.1f%%');\n"
   ]
  },
  {
   "cell_type": "code",
   "execution_count": 120,
   "metadata": {},
   "outputs": [
    {
     "data": {
      "text/plain": [
       "Particular    9620\n",
       "Publico       2813\n",
       "Name: Servicio, dtype: int64"
      ]
     },
     "execution_count": 120,
     "metadata": {},
     "output_type": "execute_result"
    }
   ],
   "source": [
    "df['Servicio'].value_counts()"
   ]
  }
 ],
 "metadata": {
  "kernelspec": {
   "display_name": "Python 3",
   "language": "python",
   "name": "python3"
  },
  "language_info": {
   "codemirror_mode": {
    "name": "ipython",
    "version": 3
   },
   "file_extension": ".py",
   "mimetype": "text/x-python",
   "name": "python",
   "nbconvert_exporter": "python",
   "pygments_lexer": "ipython3",
   "version": "3.7.3"
  }
 },
 "nbformat": 4,
 "nbformat_minor": 2
}
